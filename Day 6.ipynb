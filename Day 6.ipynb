{
 "cells": [
  {
   "cell_type": "markdown",
   "metadata": {},
   "source": [
    "# Python Intro Day 6\n",
    "## Putting it all together\n",
    "\n",
    "The expectation at this point is that you have enough information to start doing a programming task, and if you are unsure you always know where to look for help, including the lecturer. \n",
    "\n",
    "In addition to google being your friend for programming question searches, stackoverflow is a great site for questions on specific questions related to programming.\n",
    "\n",
    "#### The task\n",
    "\n",
    "who knows"
   ]
  },
  {
   "cell_type": "code",
   "execution_count": null,
   "metadata": {
    "collapsed": true
   },
   "outputs": [],
   "source": []
  }
 ],
 "metadata": {
  "kernelspec": {
   "display_name": "Python [Root]",
   "language": "python",
   "name": "Python [Root]"
  },
  "language_info": {
   "codemirror_mode": {
    "name": "ipython",
    "version": 3
   },
   "file_extension": ".py",
   "mimetype": "text/x-python",
   "name": "python",
   "nbconvert_exporter": "python",
   "pygments_lexer": "ipython3",
   "version": "3.5.2"
  }
 },
 "nbformat": 4,
 "nbformat_minor": 0
}
