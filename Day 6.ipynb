{
 "cells": [
  {
   "cell_type": "markdown",
   "metadata": {},
   "source": [
    "# Python Intro Day 6\n",
    "## Putting it all together\n",
    "\n",
    "The expectation at this point is that you have enough information to start doing a programming task, and if you are unsure you always know where to look for help, including the lecturer. \n",
    "\n",
    "In addition to Google being your friend for programming question searches, [stackoverflow](http://stackoverflow.com/) is a great site for answers on specific questions related to programming.\n",
    "\n",
    "## The task definition\n",
    "\n",
    "We are going to create a **module** which uses `nltk` and the `Counter` class to read a text file and print word statistics about that file. It will also have a function to POS tag sentences.\n",
    "\n",
    "## Making a module\n",
    "\n",
    "The simplest way to make a module is to put your function and data declarations into a file. Then import that file to use the functions and data inside it. \n",
    "\n",
    "I have a simple module I created for this presentation. It is in a file called `simplemodule.py`. Now all I have to do is `import` the file just like any other python module.\n",
    "\n",
    "Keep in mind to not write the full file name by removing the `.py` suffix, for example:"
   ]
  },
  {
   "cell_type": "code",
   "execution_count": 12,
   "metadata": {
    "collapsed": false
   },
   "outputs": [
    {
     "name": "stdout",
     "output_type": "stream",
     "text": [
      "Help on module simplemodule:\n",
      "\n",
      "NAME\n",
      "    simplemodule - This is a simple module example. It has a few functions and some data.\n",
      "\n",
      "DESCRIPTION\n",
      "    You can import this module if you are in the same directory by doing:\n",
      "        \n",
      "        import simplemodule\n",
      "    \n",
      "    The functions and data variables declared in this file can then be used by\n",
      "    typing: \n",
      "        \n",
      "        simplemodule.FUNCTIONNAME()\n",
      "        simplemodule.VARIABLENAME\n",
      "        \n",
      "    where FUNCTIONNAME and VARIABLENAME are replaced by the respective function\n",
      "    and variable names that you are interested in using.\n",
      "    \n",
      "    If you want to know what functions or variables are available, look in the\n",
      "    respective FUNCTIONS and DATA sections by calling help(simplemodule)\n",
      "\n",
      "FUNCTIONS\n",
      "    generatesentences()\n",
      "        returns a generator. the generator yields a sentence.\n",
      "        the sentence was split() from the simplestring variable\n",
      "    \n",
      "    printhello()\n",
      "        prints the string \"hello\n",
      "    \n",
      "    printsimplestring()\n",
      "        prints the simplestring variable\n",
      "    \n",
      "    returnhello()\n",
      "        returns the string \"hello\"\n",
      "    \n",
      "    returnsentences()\n",
      "        returns a list of sentences split() from the simplestring variable\n",
      "        each sentence in the list of sentences is a string.\n",
      "    \n",
      "    returnsimplestring()\n",
      "        returns the simplestring variable\n",
      "\n",
      "DATA\n",
      "    simplestring = 'This is a string. It can be used in your module. Just ...\n",
      "\n",
      "FILE\n",
      "    /pyintro/simplemodule.py\n",
      "\n",
      "\n"
     ]
    }
   ],
   "source": [
    "import simplemodule\n",
    "help(simplemodule)"
   ]
  },
  {
   "cell_type": "code",
   "execution_count": 13,
   "metadata": {
    "collapsed": false,
    "scrolled": true
   },
   "outputs": [
    {
     "name": "stdout",
     "output_type": "stream",
     "text": [
      "Hello\n",
      "Hello there!\n",
      "This is a string. It can be used in your module. Just import it\n",
      "This is a string. It can be used in your module. Just import it Isn't that easy?\n",
      "['This is a string', 'It can be used in your module', 'Just import it']\n",
      "This is a string\n",
      "It can be used in your module\n",
      "Just import it\n",
      "This is a string. It can be used in your module. Just import it. Just using the simple string variable directly.\n",
      "This is a string. It can be used in her module. Just import it\n"
     ]
    }
   ],
   "source": [
    "# print out hello by using the function in simplemodule\n",
    "simplemodule.printhello()\n",
    "\n",
    "# take hello and add (concatenate) there! to the end and print it\n",
    "hellothere = simplemodule.returnhello() + \" there!\"\n",
    "print(hellothere)\n",
    "\n",
    "# print out the simple string variable data in simplemodule\n",
    "simplemodule.printsimplestring()\n",
    "\n",
    "# append and print to the simplestring variable in simplemodule\n",
    "notsosimplestring = simplemodule.returnsimplestring() + \" Isn't that easy?\"\n",
    "print(notsosimplestring)\n",
    "\n",
    "# get all the sentence from simplestring by calling the returnsentences funciton in simplemodule\n",
    "sentences = simplemodule.returnsentences()\n",
    "print(sentences)\n",
    "\n",
    "# use the generator called generatesentences to print out each sentence in simplemodule\n",
    "for sentence in simplemodule.generatesentences():\n",
    "    print(sentence)\n",
    "\n",
    "# use simplestring directly from the simplemodule module\n",
    "print(simplemodule.simplestring + \". Just using the simple string variable directly.\")\n",
    "\n",
    "# the variable simplestring can be used like any other string, by using internal object functions\n",
    "modifiedsimplestring = simplemodule.simplestring.replace(\"your\", \"her\")\n",
    "print(modifiedsimplestring)\n"
   ]
  },
  {
   "cell_type": "markdown",
   "metadata": {},
   "source": [
    "## Task breakdown\n",
    "\n",
    "In this task, we will define a `sentence` as a list of words (string objects), and sentences as a list of sentence objects.\n",
    "\n",
    "1. Create file named languagetools.py\n",
    "2. Make functions to do the following\n",
    "  * Read a file and return sentences (use science.txt)\n",
    "  * Take sentences and return a counter object of word counts\n",
    "  * Take sentences and return POS tagged sentences\n",
    "3. Create a file called main.py\n",
    "  * import your language tools module\n",
    "  * print the results to your functions\n",
    "  \n",
    "### Hints\n",
    "\n",
    "* `nltk` has a function called `nltk.word_tokenize()` which takes a string and returns a sentence (list of word strings)\n",
    "* `nltk` has a function called `nltk.pos_tag()` which takes a sentence (list of word strings) and returns a list of tuples (word,tag)\n",
    "\n",
    "\n",
    "     >>> nltk.pos_tag(nltk.word_tokenize(\"this is a test\"))\n",
    "     [('this', 'DT'), ('is', 'VBZ'), ('a', 'DT'), ('test', 'NN')]\n",
    "\n"
   ]
  },
  {
   "cell_type": "markdown",
   "metadata": {},
   "source": [
    "## Cheat sheet\n",
    "\n",
    "no developer remembers every detail about the syntax and semantics of a language. so here's a cheat sheet.\n",
    "\n",
    "It was originally taken from https://github.com/ehmatthes/pcc/tree/master/cheat_sheets\n",
    "\n",
    "Any additional questions? Maybe using `help()` can help?\n",
    "\n",
    "![Cheat sheet page 1](beginners_python_cheat_sheet_pcc-0.jpg)\n",
    "![Cheat sheet page 1](beginners_python_cheat_sheet_pcc-1.jpg)"
   ]
  },
  {
   "cell_type": "code",
   "execution_count": null,
   "metadata": {
    "collapsed": true
   },
   "outputs": [],
   "source": []
  }
 ],
 "metadata": {
  "anaconda-cloud": {},
  "kernelspec": {
   "display_name": "Python [Root]",
   "language": "python",
   "name": "Python [Root]"
  },
  "language_info": {
   "codemirror_mode": {
    "name": "ipython",
    "version": 3
   },
   "file_extension": ".py",
   "mimetype": "text/x-python",
   "name": "python",
   "nbconvert_exporter": "python",
   "pygments_lexer": "ipython3",
   "version": "3.5.2"
  }
 },
 "nbformat": 4,
 "nbformat_minor": 0
}
