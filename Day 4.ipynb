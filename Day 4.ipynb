{
 "cells": [
  {
   "cell_type": "markdown",
   "metadata": {},
   "source": [
    "# Python Intro Day 4\n",
    "## Classes, Methods, I/O\n",
    "\n",
    "In this class we start doing the \"heavy lifting\" and explore where the real power comes from: Classes\n",
    "\n",
    "Of course we wouldn't be able to do some computing without being able to get data in or out of our program, therefore we will also delve into basic I/O (input/output).\n",
    "\n",
    "### Classes\n",
    "\n",
    "A class is a set of data and functions which do a specific task. In a class, the functions are generally called methods, as the concepts is they are methods which work on the classes internal data.\n",
    "\n",
    "The reason why we make classes is to have modularity. We can then pass our class as an argument, just like a variable, value or function. \n",
    "\n",
    "the most basic class just has to use the `class` keyword.\n",
    "\n",
    "    class NAMEOFCLASS():\n",
    "        # method, data definitions\n",
    "\n",
    "After that, a definition of a method or data must be given."
   ]
  },
  {
   "cell_type": "code",
   "execution_count": 3,
   "metadata": {
    "collapsed": true
   },
   "outputs": [],
   "source": [
    "class MyClass():\n",
    "    def mymethod(self):\n",
    "        print(\"my method was called in my class!\")"
   ]
  },
  {
   "cell_type": "markdown",
   "metadata": {},
   "source": [
    "The `self` keyword is a self-referential object to use data inside the object. It is needed as an argument to every method inside a class. we will see why later.\n",
    "\n",
    "OK, so how do we use a class? First we have to *instantiate* it, meaning, make a variable of that class. It looks very similar to using a function with a return value, but don't be fooled! \n",
    "\n",
    "Let's make the MyClass class and put it in a variable then call it's method."
   ]
  },
  {
   "cell_type": "code",
   "execution_count": 4,
   "metadata": {
    "collapsed": false
   },
   "outputs": [
    {
     "name": "stdout",
     "output_type": "stream",
     "text": [
      "my method was called in my class!\n"
     ]
    }
   ],
   "source": [
    "myclass = MyClass()\n",
    "myclass.mymethod()"
   ]
  },
  {
   "cell_type": "markdown",
   "metadata": {},
   "source": [
    "What if we need to initialise variables before we use them in a class? Say, we need some names or special values already defined inside the class to use. \n",
    "\n",
    "there is a special initialisation function that is called when you first create an object called `__init__`, so we put all of our special data declarations or additional initialisation code there.\n",
    "\n",
    "then once we have the data defined, we can use the special `self`-referential object to retrieve the data.\n",
    "\n",
    "Let's redefine the MyClass class to initialise some special internal variables."
   ]
  },
  {
   "cell_type": "code",
   "execution_count": 7,
   "metadata": {
    "collapsed": false
   },
   "outputs": [
    {
     "name": "stdout",
     "output_type": "stream",
     "text": [
      "my method was called in my class! thanks Nathan\n"
     ]
    }
   ],
   "source": [
    "class MyClass():\n",
    "    def __init__(self):\n",
    "        self.myvariable = \"Nathan\"\n",
    "    def mymethod(self):\n",
    "        print(\"my method was called in my class! thanks\", self.myvariable)\n",
    "        \n",
    "myclass = MyClass()\n",
    "myclass.mymethod()"
   ]
  },
  {
   "cell_type": "markdown",
   "metadata": {},
   "source": [
    "So now that we know, we can create objects of simpler types, what about the methods on classes or objects that we already know about? Are there methods we can use on strings or other classes and functions we can use already (instead of making everything ourselves)\n",
    "\n",
    "well thankfully, the answer is yes. There are many methods available to us already. We have already seen some of them when using `dir()` to tell us about the internals of an object. Let's try this with a string."
   ]
  },
  {
   "cell_type": "code",
   "execution_count": 3,
   "metadata": {
    "collapsed": false
   },
   "outputs": [
    {
     "data": {
      "text/plain": [
       "['__add__',\n",
       " '__class__',\n",
       " '__contains__',\n",
       " '__delattr__',\n",
       " '__dir__',\n",
       " '__doc__',\n",
       " '__eq__',\n",
       " '__format__',\n",
       " '__ge__',\n",
       " '__getattribute__',\n",
       " '__getitem__',\n",
       " '__getnewargs__',\n",
       " '__gt__',\n",
       " '__hash__',\n",
       " '__init__',\n",
       " '__iter__',\n",
       " '__le__',\n",
       " '__len__',\n",
       " '__lt__',\n",
       " '__mod__',\n",
       " '__mul__',\n",
       " '__ne__',\n",
       " '__new__',\n",
       " '__reduce__',\n",
       " '__reduce_ex__',\n",
       " '__repr__',\n",
       " '__rmod__',\n",
       " '__rmul__',\n",
       " '__setattr__',\n",
       " '__sizeof__',\n",
       " '__str__',\n",
       " '__subclasshook__',\n",
       " 'capitalize',\n",
       " 'casefold',\n",
       " 'center',\n",
       " 'count',\n",
       " 'encode',\n",
       " 'endswith',\n",
       " 'expandtabs',\n",
       " 'find',\n",
       " 'format',\n",
       " 'format_map',\n",
       " 'index',\n",
       " 'isalnum',\n",
       " 'isalpha',\n",
       " 'isdecimal',\n",
       " 'isdigit',\n",
       " 'isidentifier',\n",
       " 'islower',\n",
       " 'isnumeric',\n",
       " 'isprintable',\n",
       " 'isspace',\n",
       " 'istitle',\n",
       " 'isupper',\n",
       " 'join',\n",
       " 'ljust',\n",
       " 'lower',\n",
       " 'lstrip',\n",
       " 'maketrans',\n",
       " 'partition',\n",
       " 'replace',\n",
       " 'rfind',\n",
       " 'rindex',\n",
       " 'rjust',\n",
       " 'rpartition',\n",
       " 'rsplit',\n",
       " 'rstrip',\n",
       " 'split',\n",
       " 'splitlines',\n",
       " 'startswith',\n",
       " 'strip',\n",
       " 'swapcase',\n",
       " 'title',\n",
       " 'translate',\n",
       " 'upper',\n",
       " 'zfill']"
      ]
     },
     "execution_count": 3,
     "metadata": {},
     "output_type": "execute_result"
    }
   ],
   "source": [
    "myname = \"Nathan\"\n",
    "dir(myname)"
   ]
  },
  {
   "cell_type": "markdown",
   "metadata": {},
   "source": [
    "There are many interesting methods that we can call on each object, such as find, split, replace, lower, capitalise, and many bool like functions that start with `is` such as isalpha, isdigit, islower"
   ]
  },
  {
   "cell_type": "code",
   "execution_count": 12,
   "metadata": {
    "collapsed": false
   },
   "outputs": [
    {
     "name": "stdout",
     "output_type": "stream",
     "text": [
      "Nathan\n",
      "nathan\n",
      "Natan\n",
      "False\n",
      "False\n",
      "True\n"
     ]
    }
   ],
   "source": [
    "print(myname.capitalize())\n",
    "print(myname.lower())\n",
    "print(myname.replace(\"h\",\"\"))\n",
    "print(myname.islower())\n",
    "print(myname.isdigit())\n",
    "print(myname.isalpha()) "
   ]
  },
  {
   "cell_type": "markdown",
   "metadata": {},
   "source": [
    "Lists can also do other things you might want, just like you would expect, such as sorting!"
   ]
  },
  {
   "cell_type": "code",
   "execution_count": 5,
   "metadata": {
    "collapsed": false
   },
   "outputs": [
    {
     "name": "stdout",
     "output_type": "stream",
     "text": [
      "[7, 55, 90, 230]\n",
      "[230, 90, 55, 7]\n"
     ]
    }
   ],
   "source": [
    "new_list = [55,7,230,90]\n",
    "# ascending order sort\n",
    "new_list.sort()\n",
    "print(new_list)\n",
    "# descending order sort\n",
    "new_list.sort(reverse=True)\n",
    "print(new_list)"
   ]
  },
  {
   "cell_type": "markdown",
   "metadata": {},
   "source": [
    "But why can we do this? isn't `myname` a string? It isn't really a class we created, so why do we have methods associated with it. \n",
    "\n",
    "Well actually, ALL data in python derives from the original `object` class. So they have special methods that can be used on them. \n",
    "\n",
    "What do you mean derived? I mean class inheritance!\n",
    "\n",
    "#### Inheritance\n",
    "\n",
    "Inheritance is a special feature that can be used with classes wherein classes can be derived from other classes and inherit their *methods and data*.\n",
    "\n",
    "We can thing of inheritance as a `is-a` entity-relation. Whereas a derived class is a type of the parent class. A taxonomy is a type of classification and we can use that as an example.\n",
    "\n",
    "The syntax is almost exactly the same for defining a class that is inherited from another:\n",
    "\n",
    "    class CLASSNAME(PARENTCLASSNAME):\n",
    "        # method, data definition(s)\n",
    "\n",
    "Let's do a basic example with animals. A dog and cat are both animals, but they make different sounds. let's model how they speak with classes and inheritance."
   ]
  },
  {
   "cell_type": "code",
   "execution_count": 19,
   "metadata": {
    "collapsed": false
   },
   "outputs": [
    {
     "name": "stdout",
     "output_type": "stream",
     "text": [
      "bark bark!\n",
      "meow meow...\n"
     ]
    }
   ],
   "source": [
    "# parent class that animals derive from\n",
    "class Animal():\n",
    "    def __init__(self):\n",
    "        self.sound = \"\"\n",
    "    def speak(self):\n",
    "        print(self.sound)\n",
    "\n",
    "class Dog(Animal): # dog is a type of animal\n",
    "    def __init__(self):\n",
    "        self.sound = \"bark bark!\" # redefine a dog's sound\n",
    "\n",
    "class Cat(Animal): # cat is a type of animal\n",
    "    def __init__(self):\n",
    "        self.sound = \"meow meow...\" # redefine a cat's sound\n",
    "\n",
    "# make a dog and cat object\n",
    "dog = Dog()\n",
    "cat = Cat()\n",
    "\n",
    "# make them both speak\n",
    "dog.speak()\n",
    "cat.speak()"
   ]
  },
  {
   "cell_type": "markdown",
   "metadata": {},
   "source": [
    "As you can see, the `Cat` and `Dog` class do not have the speak method defined, because they inherited this from the parent, in this case the `Animal` class. \n",
    "\n",
    "There is not multiple inheritance in Python, therefore inheritance declaration can only ever have at most one parent class name. \n",
    "\n",
    "#### Objects\n",
    "\n",
    "Sometimes I use the term objects to speak about class instantiations. This is because there is a parent of all classes in python called `object`, where are classes are derived from. This means we can think of all data at types of object classes and use their defined methods just like any other class."
   ]
  },
  {
   "cell_type": "code",
   "execution_count": 17,
   "metadata": {
    "collapsed": false
   },
   "outputs": [
    {
     "name": "stdout",
     "output_type": "stream",
     "text": [
      "Help on class object in module builtins:\n",
      "\n",
      "class object\n",
      " |  The most base type\n",
      "\n"
     ]
    }
   ],
   "source": [
    "help(object)"
   ]
  },
  {
   "cell_type": "markdown",
   "metadata": {},
   "source": [
    "## Input and Output (I/O)\n",
    "\n",
    "Input and output is essential in any programming language. Without being able to read or write from multiple sources.\n",
    "\n",
    "Output is generally to a file or to the screen. Input is generally from a file or the keyboard. Therefore we will explore file and keyboard I/O\n",
    "### File I/O\n",
    "\n",
    "When it comes to files in Python, the main built-in function is called `open()`\n",
    "\n",
    "let's `open()` a file so that we can write something to it. "
   ]
  },
  {
   "cell_type": "code",
   "execution_count": 4,
   "metadata": {
    "collapsed": false
   },
   "outputs": [],
   "source": [
    "text = \"I think this is really important, and should be written into a file.\"\n",
    "filename = \"myfile.txt\"\n",
    "f = open(filename, 'w') # open file for writing 'w'\n",
    "f.write(text) # write the text to a file\n",
    "f.close() # close the file"
   ]
  },
  {
   "cell_type": "markdown",
   "metadata": {},
   "source": [
    "as you see the `open()` function requires two arguments, one is the name of the file and the other is how to use that file. \n",
    "\n",
    "this is important, because we may only want to read a file sometimes, we don't always ways to write. let's look at the `help()` for `open()`"
   ]
  },
  {
   "cell_type": "code",
   "execution_count": 5,
   "metadata": {
    "collapsed": false
   },
   "outputs": [
    {
     "name": "stdout",
     "output_type": "stream",
     "text": [
      "Help on built-in function open in module io:\n",
      "\n",
      "open(file, mode='r', buffering=-1, encoding=None, errors=None, newline=None, closefd=True, opener=None)\n",
      "    Open file and return a stream.  Raise IOError upon failure.\n",
      "    \n",
      "    file is either a text or byte string giving the name (and the path\n",
      "    if the file isn't in the current working directory) of the file to\n",
      "    be opened or an integer file descriptor of the file to be\n",
      "    wrapped. (If a file descriptor is given, it is closed when the\n",
      "    returned I/O object is closed, unless closefd is set to False.)\n",
      "    \n",
      "    mode is an optional string that specifies the mode in which the file\n",
      "    is opened. It defaults to 'r' which means open for reading in text\n",
      "    mode.  Other common values are 'w' for writing (truncating the file if\n",
      "    it already exists), 'x' for creating and writing to a new file, and\n",
      "    'a' for appending (which on some Unix systems, means that all writes\n",
      "    append to the end of the file regardless of the current seek position).\n",
      "    In text mode, if encoding is not specified the encoding used is platform\n",
      "    dependent: locale.getpreferredencoding(False) is called to get the\n",
      "    current locale encoding. (For reading and writing raw bytes use binary\n",
      "    mode and leave encoding unspecified.) The available modes are:\n",
      "    \n",
      "    ========= ===============================================================\n",
      "    Character Meaning\n",
      "    --------- ---------------------------------------------------------------\n",
      "    'r'       open for reading (default)\n",
      "    'w'       open for writing, truncating the file first\n",
      "    'x'       create a new file and open it for writing\n",
      "    'a'       open for writing, appending to the end of the file if it exists\n",
      "    'b'       binary mode\n",
      "    't'       text mode (default)\n",
      "    '+'       open a disk file for updating (reading and writing)\n",
      "    'U'       universal newline mode (deprecated)\n",
      "    ========= ===============================================================\n",
      "    \n",
      "    The default mode is 'rt' (open for reading text). For binary random\n",
      "    access, the mode 'w+b' opens and truncates the file to 0 bytes, while\n",
      "    'r+b' opens the file without truncation. The 'x' mode implies 'w' and\n",
      "    raises an `FileExistsError` if the file already exists.\n",
      "    \n",
      "    Python distinguishes between files opened in binary and text modes,\n",
      "    even when the underlying operating system doesn't. Files opened in\n",
      "    binary mode (appending 'b' to the mode argument) return contents as\n",
      "    bytes objects without any decoding. In text mode (the default, or when\n",
      "    't' is appended to the mode argument), the contents of the file are\n",
      "    returned as strings, the bytes having been first decoded using a\n",
      "    platform-dependent encoding or using the specified encoding if given.\n",
      "    \n",
      "    'U' mode is deprecated and will raise an exception in future versions\n",
      "    of Python.  It has no effect in Python 3.  Use newline to control\n",
      "    universal newlines mode.\n",
      "    \n",
      "    buffering is an optional integer used to set the buffering policy.\n",
      "    Pass 0 to switch buffering off (only allowed in binary mode), 1 to select\n",
      "    line buffering (only usable in text mode), and an integer > 1 to indicate\n",
      "    the size of a fixed-size chunk buffer.  When no buffering argument is\n",
      "    given, the default buffering policy works as follows:\n",
      "    \n",
      "    * Binary files are buffered in fixed-size chunks; the size of the buffer\n",
      "      is chosen using a heuristic trying to determine the underlying device's\n",
      "      \"block size\" and falling back on `io.DEFAULT_BUFFER_SIZE`.\n",
      "      On many systems, the buffer will typically be 4096 or 8192 bytes long.\n",
      "    \n",
      "    * \"Interactive\" text files (files for which isatty() returns True)\n",
      "      use line buffering.  Other text files use the policy described above\n",
      "      for binary files.\n",
      "    \n",
      "    encoding is the name of the encoding used to decode or encode the\n",
      "    file. This should only be used in text mode. The default encoding is\n",
      "    platform dependent, but any encoding supported by Python can be\n",
      "    passed.  See the codecs module for the list of supported encodings.\n",
      "    \n",
      "    errors is an optional string that specifies how encoding errors are to\n",
      "    be handled---this argument should not be used in binary mode. Pass\n",
      "    'strict' to raise a ValueError exception if there is an encoding error\n",
      "    (the default of None has the same effect), or pass 'ignore' to ignore\n",
      "    errors. (Note that ignoring encoding errors can lead to data loss.)\n",
      "    See the documentation for codecs.register or run 'help(codecs.Codec)'\n",
      "    for a list of the permitted encoding error strings.\n",
      "    \n",
      "    newline controls how universal newlines works (it only applies to text\n",
      "    mode). It can be None, '', '\\n', '\\r', and '\\r\\n'.  It works as\n",
      "    follows:\n",
      "    \n",
      "    * On input, if newline is None, universal newlines mode is\n",
      "      enabled. Lines in the input can end in '\\n', '\\r', or '\\r\\n', and\n",
      "      these are translated into '\\n' before being returned to the\n",
      "      caller. If it is '', universal newline mode is enabled, but line\n",
      "      endings are returned to the caller untranslated. If it has any of\n",
      "      the other legal values, input lines are only terminated by the given\n",
      "      string, and the line ending is returned to the caller untranslated.\n",
      "    \n",
      "    * On output, if newline is None, any '\\n' characters written are\n",
      "      translated to the system default line separator, os.linesep. If\n",
      "      newline is '' or '\\n', no translation takes place. If newline is any\n",
      "      of the other legal values, any '\\n' characters written are translated\n",
      "      to the given string.\n",
      "    \n",
      "    If closefd is False, the underlying file descriptor will be kept open\n",
      "    when the file is closed. This does not work when a file name is given\n",
      "    and must be True in that case.\n",
      "    \n",
      "    A custom opener can be used by passing a callable as *opener*. The\n",
      "    underlying file descriptor for the file object is then obtained by\n",
      "    calling *opener* with (*file*, *flags*). *opener* must return an open\n",
      "    file descriptor (passing os.open as *opener* results in functionality\n",
      "    similar to passing None).\n",
      "    \n",
      "    open() returns a file object whose type depends on the mode, and\n",
      "    through which the standard file operations such as reading and writing\n",
      "    are performed. When open() is used to open a file in a text mode ('w',\n",
      "    'r', 'wt', 'rt', etc.), it returns a TextIOWrapper. When used to open\n",
      "    a file in a binary mode, the returned class varies: in read binary\n",
      "    mode, it returns a BufferedReader; in write binary and append binary\n",
      "    modes, it returns a BufferedWriter, and in read/write mode, it returns\n",
      "    a BufferedRandom.\n",
      "    \n",
      "    It is also possible to use a string or bytearray as a file for both\n",
      "    reading and writing. For strings StringIO can be used like a file\n",
      "    opened in a text mode, and for bytes a BytesIO can be used like a file\n",
      "    opened in a binary mode.\n",
      "\n"
     ]
    }
   ],
   "source": [
    "help(open)"
   ]
  },
  {
   "cell_type": "markdown",
   "metadata": {},
   "source": [
    "wow, that's a lot of information, but for now let's just pay attention to the table in the help. It tells us information on how to open files in different ways, for reading, writing, appending, etc. the difference between writing and appending is that writing will destroy the contents before writing, and appending will just add the writes to the end of the file. \n",
    "\n",
    "So now we know that we can also ready by using 'r'  to specify read. Let's read all the data we just wrote to the file, then print it out."
   ]
  },
  {
   "cell_type": "code",
   "execution_count": 6,
   "metadata": {
    "collapsed": false
   },
   "outputs": [
    {
     "name": "stdout",
     "output_type": "stream",
     "text": [
      "I think this is really important, and should be written into a file.\n"
     ]
    }
   ],
   "source": [
    "f = open(filename, 'r')\n",
    "for line in f:\n",
    "    print(line)\n",
    "f.close()"
   ]
  },
  {
   "cell_type": "markdown",
   "metadata": {},
   "source": [
    "wow, that was really easy. As you can see, the file object when opened is iterable and can be used in a loop. \n",
    "\n",
    "we can also read all the lines in a file, and use them later if we want.\n",
    "\n",
    "one final thing to note is the special keyword `with`.\n",
    "In python `with` can be used to define variables that exist in a special scope and are *cleaned up* afterwards. This means the call we are making to `close()` won't be necessary. \n",
    "\n",
    "Using the keyword `with` helps readability and is the preferred way to do file specific tasks in Python.\n",
    "\n",
    "The basic syntax is:\n",
    "\n",
    "    with FUNCTION as VARIABLE:\n",
    "        # use VARIABLE in this scope, it will be cleaned up later\n",
    "        \n",
    "Essentially, the two lines are doing the same thing:\n",
    "1. `f = open(filename)`\n",
    "2. `with open(filename) as f`\n",
    "\n",
    "The only benefit is that the latter will do the additional call to `close()` for us.\n",
    "\n",
    "So now let's use `with` to read the file again, but this time, we will split the line into it's words and print them."
   ]
  },
  {
   "cell_type": "code",
   "execution_count": 23,
   "metadata": {
    "collapsed": false
   },
   "outputs": [
    {
     "name": "stdout",
     "output_type": "stream",
     "text": [
      "['Hello,', 'Here', 'is', 'a', 'line', 'for', 'our', 'file.'] <class 'list'>\n",
      "['Here', 'is', 'another', 'one.'] <class 'list'>\n",
      "['This', 'is', 'the', 'last', 'one.'] <class 'list'>\n",
      "This\n",
      "is\n",
      "the\n",
      "last\n",
      "one.\n"
     ]
    }
   ],
   "source": [
    "with open(filename) as f:\n",
    "    for line in f:\n",
    "        words = line.split() # splits on whitespace\n",
    "        print(words, type(words))\n",
    "\n",
    "for word in words:\n",
    "    print(word)"
   ]
  },
  {
   "cell_type": "markdown",
   "metadata": {},
   "source": [
    "##### A note on line delimiting, or end of line characters\n",
    "\n",
    "One additional thing to point out is that, text files use *line delimiters*, or special characters we cant see which place string or subsequent lines to make them more readable, otherwise we would have to *scroll right* forever to read an article. Therefore every text file uses a special end of line sequence of characters to tell the computer that it is an end of line.\n",
    "\n",
    "There are two main special characters, new line and return carriage, which we represent as `\\n` and `\\r` respectively.\n",
    "\n",
    "In Unix like systems (Mac OS X and GNU/Linux), the end of line sequence is new line `\\n`\n",
    "In Windows systems, the end of line sequence is new line and return carriage `\\r\\n`\n",
    "\n",
    "Although we are actually typing two characters, backslash and `n` or `r`, the computers interpret them to be a single special character. \n",
    "\n",
    "Let's write a few lines to a file, and see what we mean."
   ]
  },
  {
   "cell_type": "code",
   "execution_count": 18,
   "metadata": {
    "collapsed": false
   },
   "outputs": [],
   "source": [
    "# define lines to write into a file\n",
    "lines = [\"Hello, Here is a line for our file.\", \"Here is another one.\", \"This is the last one.\"]\n",
    "with open(filename,'w') as f: # clobber our file, overwrite\n",
    "    f.writelines(lines)       # special function to writelines"
   ]
  },
  {
   "cell_type": "markdown",
   "metadata": {},
   "source": [
    "Let's take a moment to look at our file, does anything seem strange?\n",
    "\n",
    "I would definitely say so!, It seems that our file does not have line delimiters and all the text is jumbled. Let's add them in."
   ]
  },
  {
   "cell_type": "code",
   "execution_count": 19,
   "metadata": {
    "collapsed": true
   },
   "outputs": [],
   "source": [
    "with open(filename,'w') as f: # clobber our file, overwrite\n",
    "    for line in lines:\n",
    "        f.write(line + \"\\n\")"
   ]
  },
  {
   "cell_type": "markdown",
   "metadata": {},
   "source": [
    "That is much better, now lastly, when reading a text file, we may want to remove them when reading, which can done easily by a call to `strip()` which will remove whitespace which includes tabs, spaces, new line, and return carriage `[ \\t\\r\\n]`.\n",
    "\n",
    "let's read and print the words again."
   ]
  },
  {
   "cell_type": "code",
   "execution_count": 22,
   "metadata": {
    "collapsed": false
   },
   "outputs": [
    {
     "name": "stdout",
     "output_type": "stream",
     "text": [
      "['Hello,', 'Here', 'is', 'a', 'line', 'for', 'our', 'file.'] <class 'list'>\n",
      "['Here', 'is', 'another', 'one.'] <class 'list'>\n",
      "['This', 'is', 'the', 'last', 'one.'] <class 'list'>\n"
     ]
    }
   ],
   "source": [
    "with open(filename) as f:\n",
    "    for line in f:\n",
    "        words = line.strip().split()\n",
    "        print(words, type(words))"
   ]
  },
  {
   "cell_type": "markdown",
   "metadata": {},
   "source": [
    "## Lecture assignment\n",
    "\n",
    "* create WordStats class\n",
    "  * read filename\n",
    "  * split lines into words\n",
    "  * count words\n",
    "  * print counts"
   ]
  },
  {
   "cell_type": "code",
   "execution_count": null,
   "metadata": {
    "collapsed": true
   },
   "outputs": [],
   "source": []
  }
 ],
 "metadata": {
  "anaconda-cloud": {},
  "kernelspec": {
   "display_name": "Python [Root]",
   "language": "python",
   "name": "Python [Root]"
  },
  "language_info": {
   "codemirror_mode": {
    "name": "ipython",
    "version": 3
   },
   "file_extension": ".py",
   "mimetype": "text/x-python",
   "name": "python",
   "nbconvert_exporter": "python",
   "pygments_lexer": "ipython3",
   "version": "3.5.2"
  }
 },
 "nbformat": 4,
 "nbformat_minor": 0
}
