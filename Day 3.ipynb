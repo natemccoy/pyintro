{
 "cells": [
  {
   "cell_type": "markdown",
   "metadata": {},
   "source": [
    "# Python Intro Day 3\n",
    "## Control Flow, Logic and Functions\n",
    "\n",
    "Now that we understand some basics on types and how to use them, let's talk about the power that comes from programming. Programming logic. The logic of the program can control choices the program makes on how to use data, and simplify repetitive use cases, thus automating tasks and computing data that we as humans can't do so quickly.\n",
    "\n",
    "### Conditionals\n",
    "\n",
    "Conditionals in programming language parlance work on the same idea as Material Conditional, using a kind of under-the-hood modus ponens to determine whether the implication can be resolved or not. \n",
    "\n",
    "In the English language we use the `if... else...` clause to introduce an implication, and most programming languages including python do the same thing!\n",
    "\n",
    "The basic syntax is as follows:\n",
    "\n",
    "    if CONDITION:\n",
    "        # run TRUE condition code here\n",
    "    else:\n",
    "        # run FALSE condition code here\n",
    "        \n",
    "the `else` case is optional."
   ]
  },
  {
   "cell_type": "code",
   "execution_count": 25,
   "metadata": {
    "collapsed": false
   },
   "outputs": [
    {
     "name": "stdout",
     "output_type": "stream",
     "text": [
      "Yum Yum Snack Time!\n"
     ]
    }
   ],
   "source": [
    "nathanIsHungry = True # variable to store my hunger state\n",
    "if nathanIsHungry:\n",
    "    print(\"Yum Yum Snack Time!\")\n",
    "else:\n",
    "    print(\"More work to do, no time for a snack.\")"
   ]
  },
  {
   "cell_type": "markdown",
   "metadata": {},
   "source": [
    "In addition there is another form to check for multiple conditions using a shortened form of `else if` which in python is `elif`"
   ]
  },
  {
   "cell_type": "code",
   "execution_count": 26,
   "metadata": {
    "collapsed": false
   },
   "outputs": [
    {
     "name": "stdout",
     "output_type": "stream",
     "text": [
      "You should eat something...\n"
     ]
    }
   ],
   "source": [
    "nathanIsHungry = False\n",
    "youAreHungry = True # variable to store your hunger state\n",
    "if nathanIsHungry:\n",
    "    print(\"Yum Yum Snack Time!\")\n",
    "elif youAreHungry:\n",
    "    print(\"You should eat something...\")\n",
    "else:\n",
    "    print(\"More work to do, no time for a snack.\")"
   ]
  },
  {
   "cell_type": "markdown",
   "metadata": {},
   "source": [
    "we will only reach the `else` portion of the clause if the previous antecedents fail by being `False`. In Logic terms, It is just like when modus ponens cannot resolve truth on the antecedent of the material conditional and accepts the state of the consequent. "
   ]
  },
  {
   "cell_type": "code",
   "execution_count": 27,
   "metadata": {
    "collapsed": false
   },
   "outputs": [
    {
     "name": "stdout",
     "output_type": "stream",
     "text": [
      "More work to do, no time for a snack.\n"
     ]
    }
   ],
   "source": [
    "# neither one of us is hungry\n",
    "nathanIsHungry = False \n",
    "youAreHungry = False \n",
    "if nathanIsHungry:\n",
    "    print(\"Yum Yum Snack Time!\")\n",
    "elif youAreHungry:\n",
    "    print(\"You should eat something...\")\n",
    "else:\n",
    "    print(\"More work to do, no time for a snack.\")"
   ]
  },
  {
   "cell_type": "markdown",
   "metadata": {},
   "source": [
    "You can also check values or strings in conditional statements. Such as words or integers."
   ]
  },
  {
   "cell_type": "code",
   "execution_count": 47,
   "metadata": {
    "collapsed": false
   },
   "outputs": [
    {
     "name": "stdout",
     "output_type": "stream",
     "text": [
      "Looks like it is just Nathan\n"
     ]
    }
   ],
   "source": [
    "name = \"Nathan\"\n",
    "if name == \"Joe\":\n",
    "    print(\"Good old Joe\")\n",
    "else:\n",
    "    print(\"Looks like it is just\", name)"
   ]
  },
  {
   "cell_type": "code",
   "execution_count": 50,
   "metadata": {
    "collapsed": false
   },
   "outputs": [
    {
     "name": "stdout",
     "output_type": "stream",
     "text": [
      "i is greater than 50\n",
      "i is the magic number\n",
      "OMG i IS the magic number\n"
     ]
    }
   ],
   "source": [
    "i = 123\n",
    "MAGIC_NUMBER = 246\n",
    "\n",
    "if i > 50:\n",
    "    print(\"i is greater than 50\")\n",
    "\n",
    "i = i*2    \n",
    "\n",
    "if i == MAGIC_NUMBER:\n",
    "    print(\"i is the magic number\")\n",
    "    \n",
    "if i <= 123:\n",
    "    print(\"i is less than or equal to 123\")\n",
    "    \n",
    "if i == MAGIC_NUMBER:\n",
    "    print(\"OMG i IS the magic number\")\n",
    "else:\n",
    "    print(\"i is UNMAGIC\")"
   ]
  },
  {
   "cell_type": "markdown",
   "metadata": {},
   "source": [
    "#### Truthy values\n",
    "\n",
    "Certain values in Python will be interpreted as `True` and `False` just like the explicit booleans.\n",
    "\n",
    "The basic rule of thumb is, if there is nothing there, it is `False`.\n",
    "\n",
    "Empty lists, Empty strings and the integer 0, All act like `False` whereas any other values are `True`. Part of this is historical from other languages like `C` and others are language specific. This will be "
   ]
  },
  {
   "cell_type": "code",
   "execution_count": 28,
   "metadata": {
    "collapsed": false
   },
   "outputs": [
    {
     "name": "stdout",
     "output_type": "stream",
     "text": [
      "Hello there!\n",
      "[1, 2, 3]\n",
      "{1: 1, 2: 2, 3: 3}\n",
      "1\n"
     ]
    }
   ],
   "source": [
    "EMPTY_STRING = \"\"\n",
    "STRING = \"Hello there!\"\n",
    "\n",
    "EMPTY_LIST = []\n",
    "LIST = [1,2,3]\n",
    "\n",
    "EMPTY_DICT = {}\n",
    "DICT = {1:1,2:2,3:3}\n",
    "\n",
    "ZERO = 0\n",
    "NONZERO = 1\n",
    "\n",
    "if EMPTY_STRING:\n",
    "    print(\"Empty String\")\n",
    "if STRING:\n",
    "    print(STRING)\n",
    "    \n",
    "if EMPTY_LIST:\n",
    "    print(\"Empty List\")\n",
    "if LIST:\n",
    "    print(LIST)\n",
    "    \n",
    "if EMPTY_DICT:\n",
    "    print(\"Empty Dict\")\n",
    "if DICT:\n",
    "    print(DICT)\n",
    "    \n",
    "if ZERO:\n",
    "    print(\"Zero\")\n",
    "if NONZERO:\n",
    "    print(NONZERO)"
   ]
  },
  {
   "cell_type": "markdown",
   "metadata": {},
   "source": [
    "### Functions\n",
    "\n",
    "Functions are reusable code in python that can do simple or more complex tasks. They are a way to manage smaller computations that need to be repeated into a single call.\n",
    "\n",
    "There are `built-in` functions, and user declared functions, sometimes called methods depending on the context. \n",
    "\n",
    "The most common built-in function is `print`, which works just as you would think."
   ]
  },
  {
   "cell_type": "code",
   "execution_count": 29,
   "metadata": {
    "collapsed": false
   },
   "outputs": [
    {
     "name": "stdout",
     "output_type": "stream",
     "text": [
      "Hello World!\n"
     ]
    }
   ],
   "source": [
    "print(\"Hello World!\")"
   ]
  },
  {
   "cell_type": "code",
   "execution_count": 30,
   "metadata": {
    "collapsed": false
   },
   "outputs": [
    {
     "name": "stdout",
     "output_type": "stream",
     "text": [
      "42\n"
     ]
    }
   ],
   "source": [
    "print(27+15)"
   ]
  },
  {
   "cell_type": "markdown",
   "metadata": {},
   "source": [
    "additional common built in functions are `type(), dir(), range(), len() and help()`"
   ]
  },
  {
   "cell_type": "code",
   "execution_count": 31,
   "metadata": {
    "collapsed": false
   },
   "outputs": [
    {
     "data": {
      "text/plain": [
       "range(0, 10)"
      ]
     },
     "execution_count": 31,
     "metadata": {},
     "output_type": "execute_result"
    }
   ],
   "source": [
    "range(10)"
   ]
  },
  {
   "cell_type": "code",
   "execution_count": 32,
   "metadata": {
    "collapsed": false
   },
   "outputs": [
    {
     "name": "stdout",
     "output_type": "stream",
     "text": [
      "Help on built-in function print in module builtins:\n",
      "\n",
      "print(...)\n",
      "    print(value, ..., sep=' ', end='\\n', file=sys.stdout, flush=False)\n",
      "    \n",
      "    Prints the values to a stream, or to sys.stdout by default.\n",
      "    Optional keyword arguments:\n",
      "    file:  a file-like object (stream); defaults to the current sys.stdout.\n",
      "    sep:   string inserted between values, default a space.\n",
      "    end:   string appended after the last value, default a newline.\n",
      "    flush: whether to forcibly flush the stream.\n",
      "\n"
     ]
    }
   ],
   "source": [
    "help(print)"
   ]
  },
  {
   "cell_type": "code",
   "execution_count": 8,
   "metadata": {
    "collapsed": false
   },
   "outputs": [
    {
     "name": "stdout",
     "output_type": "stream",
     "text": [
      "Help on built-in function dir in module builtins:\n",
      "\n",
      "dir(...)\n",
      "    dir([object]) -> list of strings\n",
      "    \n",
      "    If called without an argument, return the names in the current scope.\n",
      "    Else, return an alphabetized list of names comprising (some of) the attributes\n",
      "    of the given object, and of attributes reachable from it.\n",
      "    If the object supplies a method named __dir__, it will be used; otherwise\n",
      "    the default dir() logic is used and returns:\n",
      "      for a module object: the module's attributes.\n",
      "      for a class object:  its attributes, and recursively the attributes\n",
      "        of its bases.\n",
      "      for any other object: its attributes, its class's attributes, and\n",
      "        recursively the attributes of its class's base classes.\n",
      "\n"
     ]
    }
   ],
   "source": [
    "help(dir)"
   ]
  },
  {
   "cell_type": "code",
   "execution_count": 33,
   "metadata": {
    "collapsed": false
   },
   "outputs": [
    {
     "data": {
      "text/plain": [
       "str"
      ]
     },
     "execution_count": 33,
     "metadata": {},
     "output_type": "execute_result"
    }
   ],
   "source": [
    "type(\"Hello\")"
   ]
  },
  {
   "cell_type": "code",
   "execution_count": 53,
   "metadata": {
    "collapsed": false
   },
   "outputs": [
    {
     "name": "stdout",
     "output_type": "stream",
     "text": [
      "5\n"
     ]
    }
   ],
   "source": [
    "print(len(\"Hello\"))"
   ]
  },
  {
   "cell_type": "code",
   "execution_count": 34,
   "metadata": {
    "collapsed": false
   },
   "outputs": [
    {
     "data": {
      "text/plain": [
       "int"
      ]
     },
     "execution_count": 34,
     "metadata": {},
     "output_type": "execute_result"
    }
   ],
   "source": [
    "type(123)"
   ]
  },
  {
   "cell_type": "markdown",
   "metadata": {},
   "source": [
    "Data types in python are really a kind of object, which usually have functions, or methods that can be used with them. the built-in `dir()` lets you know what internal data structures and methods exist in each object. This will be covered later, but it is good to mention now."
   ]
  },
  {
   "cell_type": "code",
   "execution_count": 35,
   "metadata": {
    "collapsed": false
   },
   "outputs": [
    {
     "data": {
      "text/plain": [
       "['__add__',\n",
       " '__class__',\n",
       " '__contains__',\n",
       " '__delattr__',\n",
       " '__dir__',\n",
       " '__doc__',\n",
       " '__eq__',\n",
       " '__format__',\n",
       " '__ge__',\n",
       " '__getattribute__',\n",
       " '__getitem__',\n",
       " '__getnewargs__',\n",
       " '__gt__',\n",
       " '__hash__',\n",
       " '__init__',\n",
       " '__iter__',\n",
       " '__le__',\n",
       " '__len__',\n",
       " '__lt__',\n",
       " '__mod__',\n",
       " '__mul__',\n",
       " '__ne__',\n",
       " '__new__',\n",
       " '__reduce__',\n",
       " '__reduce_ex__',\n",
       " '__repr__',\n",
       " '__rmod__',\n",
       " '__rmul__',\n",
       " '__setattr__',\n",
       " '__sizeof__',\n",
       " '__str__',\n",
       " '__subclasshook__',\n",
       " 'capitalize',\n",
       " 'casefold',\n",
       " 'center',\n",
       " 'count',\n",
       " 'encode',\n",
       " 'endswith',\n",
       " 'expandtabs',\n",
       " 'find',\n",
       " 'format',\n",
       " 'format_map',\n",
       " 'index',\n",
       " 'isalnum',\n",
       " 'isalpha',\n",
       " 'isdecimal',\n",
       " 'isdigit',\n",
       " 'isidentifier',\n",
       " 'islower',\n",
       " 'isnumeric',\n",
       " 'isprintable',\n",
       " 'isspace',\n",
       " 'istitle',\n",
       " 'isupper',\n",
       " 'join',\n",
       " 'ljust',\n",
       " 'lower',\n",
       " 'lstrip',\n",
       " 'maketrans',\n",
       " 'partition',\n",
       " 'replace',\n",
       " 'rfind',\n",
       " 'rindex',\n",
       " 'rjust',\n",
       " 'rpartition',\n",
       " 'rsplit',\n",
       " 'rstrip',\n",
       " 'split',\n",
       " 'splitlines',\n",
       " 'startswith',\n",
       " 'strip',\n",
       " 'swapcase',\n",
       " 'title',\n",
       " 'translate',\n",
       " 'upper',\n",
       " 'zfill']"
      ]
     },
     "execution_count": 35,
     "metadata": {},
     "output_type": "execute_result"
    }
   ],
   "source": [
    "hi = \"hello there\"\n",
    "dir(hi)"
   ]
  },
  {
   "cell_type": "markdown",
   "metadata": {},
   "source": [
    "To define a new function ourselves, we can use the `def` keyword, using the following syntax:\n",
    "\n",
    "    def functionname(arguments):\n",
    "        # body of function to execute\n",
    "        \n",
    "python uses spaces or tabs as a way to specify where the body of a function starts and ends, so be consistent! I usually just press tab.\n",
    "        \n",
    "Let's make a simple example which just prints out something, then we can call it by using the `functionname` we defined earlier."
   ]
  },
  {
   "cell_type": "code",
   "execution_count": 2,
   "metadata": {
    "collapsed": true
   },
   "outputs": [],
   "source": [
    "def sayhello(name):\n",
    "    print(\"Hello\", name)"
   ]
  },
  {
   "cell_type": "code",
   "execution_count": 3,
   "metadata": {
    "collapsed": false
   },
   "outputs": [
    {
     "name": "stdout",
     "output_type": "stream",
     "text": [
      "Hello Nathan\n"
     ]
    }
   ],
   "source": [
    "sayhello(\"Nathan\")"
   ]
  },
  {
   "cell_type": "markdown",
   "metadata": {},
   "source": [
    "Functions can also `return` values which can be used for later. Then the value returned by the function can be assigned to a variable just like we have seen with normal data types."
   ]
  },
  {
   "cell_type": "code",
   "execution_count": 4,
   "metadata": {
    "collapsed": true
   },
   "outputs": [],
   "source": [
    "def add10(x):\n",
    "    return x + 10"
   ]
  },
  {
   "cell_type": "code",
   "execution_count": 5,
   "metadata": {
    "collapsed": false,
    "scrolled": true
   },
   "outputs": [
    {
     "name": "stdout",
     "output_type": "stream",
     "text": [
      "60\n"
     ]
    }
   ],
   "source": [
    "newvalue = add10(50)\n",
    "print(newvalue)"
   ]
  },
  {
   "cell_type": "markdown",
   "metadata": {},
   "source": [
    "You are not limited to the quantity of arguments you send to a function, but more then 3 is really pushing it. At that point you should think about using a data structure instead, like a list. \n",
    "\n",
    "One of the great things about python is that functions are \"first class objects\", this means you can pass a function as a argument to another function!"
   ]
  },
  {
   "cell_type": "code",
   "execution_count": 7,
   "metadata": {
    "collapsed": false
   },
   "outputs": [
    {
     "name": "stdout",
     "output_type": "stream",
     "text": [
      "Hello Nathan\n",
      "How are you?\n"
     ]
    }
   ],
   "source": [
    "def howareyou(func, arg):\n",
    "    func(arg)\n",
    "    print(\"How are you?\")\n",
    "\n",
    "howareyou(sayhello, \"Nathan\")"
   ]
  },
  {
   "cell_type": "markdown",
   "metadata": {},
   "source": [
    "### Iterative vs Recursive\n",
    "\n",
    "There are two main methodologies to perform tasks in programming languages, iterative and recursive. recursive methodologies use function calls to perform tasks while iterative methodologies use loops.\n",
    "\n",
    "We won't go into recursive methods in this class and will instead stick to using iterative looping with two key words `for` and `while`. \n",
    "\n",
    "#### For loop\n",
    "\n",
    "`for` loops are probably the most common in python. they iterate over a data structure and allow usage of each item in that data structure. \n",
    "\n",
    "The basic syntax for a `for` loop is as follows:\n",
    "\n",
    "    for VARIABLE in ITERABLE:\n",
    "        # iterate over all items in ITERABLE\n",
    "\n",
    "What is happening in this loop, two things:\n",
    "\n",
    "1. A temporary local `VARIABLE` is declared\n",
    "2. VARIABLE is assigned to each item in `ITERABLE`\n",
    "\n",
    "When all them items in `ITERABLE` are gone through, the loop stops. \n",
    "\n",
    "Iterable items are things like, lists, strings, or potentially other functions.\n",
    "\n",
    "We already have two functions defined, so let's try an example by putting all our ideas we learned so far together."
   ]
  },
  {
   "cell_type": "code",
   "execution_count": 40,
   "metadata": {
    "collapsed": false
   },
   "outputs": [
    {
     "name": "stdout",
     "output_type": "stream",
     "text": [
      "Hello Joe\n",
      "Hello Giuseppe\n",
      "Hello James\n"
     ]
    }
   ],
   "source": [
    "names = [\"Joe\",\"Giuseppe\",\"James\"] # declare list of names, iterable\n",
    "for name in names:                 # iterate over all names using temp variable name\n",
    "    sayhello(name)                 # call function on each name"
   ]
  },
  {
   "cell_type": "code",
   "execution_count": 41,
   "metadata": {
    "collapsed": false
   },
   "outputs": [
    {
     "name": "stdout",
     "output_type": "stream",
     "text": [
      "15\n",
      "35\n",
      "133\n"
     ]
    }
   ],
   "source": [
    "numbers = [5,25,123]\n",
    "for n in numbers:\n",
    "    print(add10(n))"
   ]
  },
  {
   "cell_type": "code",
   "execution_count": 42,
   "metadata": {
    "collapsed": false
   },
   "outputs": [
    {
     "name": "stdout",
     "output_type": "stream",
     "text": [
      "H\n",
      "e\n",
      "l\n",
      "l\n",
      "o\n",
      " \n",
      "t\n",
      "h\n",
      "e\n",
      "r\n",
      "e\n",
      "!\n"
     ]
    }
   ],
   "source": [
    "for character in STRING:\n",
    "    print(character)"
   ]
  },
  {
   "cell_type": "code",
   "execution_count": 43,
   "metadata": {
    "collapsed": false
   },
   "outputs": [
    {
     "name": "stdout",
     "output_type": "stream",
     "text": [
      "x: 1 y: 1 x*y: 1\n",
      "x: 1 y: 2 x*y: 2\n",
      "x: 1 y: 3 x*y: 3\n",
      "x: 1 y: 4 x*y: 4\n",
      "x: 2 y: 1 x*y: 2\n",
      "x: 2 y: 2 x*y: 4\n",
      "x: 2 y: 3 x*y: 6\n",
      "x: 2 y: 4 x*y: 8\n",
      "x: 3 y: 1 x*y: 3\n",
      "x: 3 y: 2 x*y: 6\n",
      "x: 3 y: 3 x*y: 9\n",
      "x: 3 y: 4 x*y: 12\n",
      "x: 4 y: 1 x*y: 4\n",
      "x: 4 y: 2 x*y: 8\n",
      "x: 4 y: 3 x*y: 12\n",
      "x: 4 y: 4 x*y: 16\n"
     ]
    }
   ],
   "source": [
    "for x in range(1,5): # iterate from 1 to 5\n",
    "    for y in range(1,5): # iterate from 1 to 5\n",
    "        print(\"x:\",x, \"y:\",y, \"x*y:\", x*y)"
   ]
  },
  {
   "cell_type": "markdown",
   "metadata": {},
   "source": [
    "#### While Loops\n",
    "\n",
    "another construct for iterative processes is the `while` loop. It uses a condition to stop the iteration process. \n",
    "Inside the loop or external to it running, the loop condition should be changed. \n",
    "\n",
    "the basic syntax is as follows:\n",
    "\n",
    "    while CONDITION:\n",
    "        # body of loop\n",
    "\n",
    "The `CONDITION` is a boolean condition, just like we saw in the conditional clauses. While the condition is `True` the loop will not stop."
   ]
  },
  {
   "cell_type": "code",
   "execution_count": 54,
   "metadata": {
    "collapsed": false
   },
   "outputs": [
    {
     "name": "stdout",
     "output_type": "stream",
     "text": [
      "i is 100\n"
     ]
    }
   ],
   "source": [
    "running = True\n",
    "i = 0\n",
    "while running:\n",
    "    if i >= 100:\n",
    "        running = False\n",
    "        print(\"i is\", i)\n",
    "    i += 1"
   ]
  },
  {
   "cell_type": "markdown",
   "metadata": {},
   "source": [
    "### Additional Topics\n",
    "\n",
    "Additional topics to speak about if time permits\n",
    "\n",
    "##### Recursion\n",
    "\n",
    "If time permits, recursion can be spoken about. (base case, recursive case)\n",
    "\n",
    "Write a functions to test for palindromes.\n",
    "\n",
    "#### Lambda functions\n",
    "\n",
    "Closures and \"throw away\" functions. Basic Lambda Calculus.\n",
    "\n",
    "Create lambda function without closure and assign argument for result."
   ]
  },
  {
   "cell_type": "markdown",
   "metadata": {
    "collapsed": true
   },
   "source": [
    "## Lecture assignment\n",
    "\n",
    "1. make a function to square a number and return it\n",
    "2. make a function to add two numbers and return it\n",
    "3. make a function to add a list of numbers and return it\n",
    "4. make a function concatenate two strings together and return it\n",
    "5. make a function which loops over argument names and prints them\n",
    "6. make a function which uses while loop to iterate over items with indexes\n",
    "7. make a function which tells if a word is a palindrome"
   ]
  },
  {
   "cell_type": "code",
   "execution_count": null,
   "metadata": {
    "collapsed": true
   },
   "outputs": [],
   "source": []
  }
 ],
 "metadata": {
  "anaconda-cloud": {},
  "kernelspec": {
   "display_name": "Python [Root]",
   "language": "python",
   "name": "Python [Root]"
  },
  "language_info": {
   "codemirror_mode": {
    "name": "ipython",
    "version": 3
   },
   "file_extension": ".py",
   "mimetype": "text/x-python",
   "name": "python",
   "nbconvert_exporter": "python",
   "pygments_lexer": "ipython3",
   "version": "3.5.2"
  }
 },
 "nbformat": 4,
 "nbformat_minor": 0
}
